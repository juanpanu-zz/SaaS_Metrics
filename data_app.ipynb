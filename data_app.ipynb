{
 "cells": [
  {
   "cell_type": "markdown",
   "metadata": {},
   "source": [
    "- MRR (Monthly Recurring Revenue)\r\n",
    "- ARR (Annual Run Rate)\r\n",
    "- TAS (Tasa de Adquisición de Suscriptores)\r\n",
    "- LTV (Life Time Value)\r\n",
    "- Churn rate\r\n",
    "- Estatus de suscripción\r\n",
    "- Más lo que decidas incluir"
   ]
  },
  {
   "cell_type": "code",
   "execution_count": 1,
   "metadata": {},
   "outputs": [],
   "source": [
    "import streamlit as st\r\n",
    "import numpy as np\r\n",
    "import pandas as pd"
   ]
  },
  {
   "cell_type": "code",
   "execution_count": 2,
   "metadata": {},
   "outputs": [],
   "source": [
    "df = pd.read_excel('payments.xlsx',sheet_name='Hoja 1 - payments (2)',index_col=0, header=1)\r\n",
    "df = df.reset_index().set_index('id')"
   ]
  },
  {
   "cell_type": "code",
   "execution_count": 3,
   "metadata": {},
   "outputs": [],
   "source": [
    "#Converting to Datetime\r\n",
    "df['paid_at'] = pd.to_datetime(df['paid_at'],infer_datetime_format=True)\r\n",
    "df['failed_at'] = pd.to_datetime(df['failed_at'],infer_datetime_format=True)\r\n",
    "df['created_at'] = pd.to_datetime(df['created_at'],infer_datetime_format=True)\r\n",
    "df['updated_at'] = pd.to_datetime(df['updated_at'],infer_datetime_format=True)\r\n",
    "df['deleted_at'] = pd.to_datetime(df['deleted_at'],infer_datetime_format=True)\r\n",
    "df['required_action_at'] = pd.to_datetime(df['required_action_at'],infer_datetime_format=True)\r\n",
    "df['refunded_at'] = pd.to_datetime(df['refunded_at'],infer_datetime_format=True)\r\n",
    "df['attended_at'] = pd.to_datetime(df['attended_at'],infer_datetime_format=True)\r\n",
    "df['refund_pending_at'] = pd.to_datetime(df['refund_pending_at'],infer_datetime_format=True)\r\n"
   ]
  },
  {
   "cell_type": "code",
   "execution_count": 4,
   "metadata": {},
   "outputs": [
    {
     "data": {
      "text/html": "<div>\n<style scoped>\n    .dataframe tbody tr th:only-of-type {\n        vertical-align: middle;\n    }\n\n    .dataframe tbody tr th {\n        vertical-align: top;\n    }\n\n    .dataframe thead th {\n        text-align: right;\n    }\n</style>\n<table border=\"1\" class=\"dataframe\">\n  <thead>\n    <tr style=\"text-align: right;\">\n      <th></th>\n      <th>payable_type</th>\n      <th>payable_id</th>\n      <th>status</th>\n      <th>paid_at</th>\n      <th>failed_at</th>\n      <th>failure_reason</th>\n      <th>amount</th>\n      <th>total</th>\n      <th>created_at</th>\n      <th>updated_at</th>\n      <th>...</th>\n      <th>refund_reason_id</th>\n      <th>refund_failed_at</th>\n      <th>refund_failed_reason</th>\n      <th>payer_type</th>\n      <th>payer_id</th>\n      <th>company_id</th>\n      <th>payment_gateway_fee_amount</th>\n      <th>attended_at</th>\n      <th>payments_failed</th>\n      <th>refund_pending_at</th>\n    </tr>\n    <tr>\n      <th>id</th>\n      <th></th>\n      <th></th>\n      <th></th>\n      <th></th>\n      <th></th>\n      <th></th>\n      <th></th>\n      <th></th>\n      <th></th>\n      <th></th>\n      <th></th>\n      <th></th>\n      <th></th>\n      <th></th>\n      <th></th>\n      <th></th>\n      <th></th>\n      <th></th>\n      <th></th>\n      <th></th>\n      <th></th>\n    </tr>\n  </thead>\n  <tbody>\n    <tr>\n      <th>44</th>\n      <td>App\\Models\\Companies\\Subscription</td>\n      <td>67</td>\n      <td>paid</td>\n      <td>2021-02-26 15:36:54</td>\n      <td>NaT</td>\n      <td>NaN</td>\n      <td>9900</td>\n      <td>9139</td>\n      <td>2021-02-26 15:36:54</td>\n      <td>2021-04-15 12:14:08</td>\n      <td>...</td>\n      <td>NaN</td>\n      <td>NaN</td>\n      <td>NaN</td>\n      <td>App\\Models\\Clients\\Client</td>\n      <td>59</td>\n      <td>9</td>\n      <td>761</td>\n      <td>NaT</td>\n      <td>NaN</td>\n      <td>NaT</td>\n    </tr>\n    <tr>\n      <th>45</th>\n      <td>App\\Models\\Companies\\Subscription</td>\n      <td>63</td>\n      <td>paid</td>\n      <td>2021-02-26 16:11:52</td>\n      <td>NaT</td>\n      <td>NaN</td>\n      <td>3900</td>\n      <td>3390</td>\n      <td>2021-02-26 16:11:52</td>\n      <td>2021-04-15 12:14:08</td>\n      <td>...</td>\n      <td>NaN</td>\n      <td>NaN</td>\n      <td>NaN</td>\n      <td>App\\Models\\Clients\\Client</td>\n      <td>56</td>\n      <td>9</td>\n      <td>510</td>\n      <td>NaT</td>\n      <td>NaN</td>\n      <td>NaT</td>\n    </tr>\n    <tr>\n      <th>39</th>\n      <td>App\\Models\\Companies\\Subscription</td>\n      <td>58</td>\n      <td>paid</td>\n      <td>2021-02-19 12:40:08</td>\n      <td>NaT</td>\n      <td>NaN</td>\n      <td>9900</td>\n      <td>9139</td>\n      <td>2021-02-19 12:40:08</td>\n      <td>2021-04-15 12:14:08</td>\n      <td>...</td>\n      <td>NaN</td>\n      <td>NaN</td>\n      <td>NaN</td>\n      <td>App\\Models\\Clients\\Client</td>\n      <td>53</td>\n      <td>9</td>\n      <td>761</td>\n      <td>NaT</td>\n      <td>NaN</td>\n      <td>NaT</td>\n    </tr>\n    <tr>\n      <th>46</th>\n      <td>App\\Models\\Companies\\Subscription</td>\n      <td>68</td>\n      <td>failed</td>\n      <td>NaT</td>\n      <td>2021-02-26 20:45:48</td>\n      <td>Tarjeta rechazada.</td>\n      <td>3900</td>\n      <td>3390</td>\n      <td>2021-02-26 20:45:48</td>\n      <td>2021-04-15 12:14:09</td>\n      <td>...</td>\n      <td>NaN</td>\n      <td>NaN</td>\n      <td>NaN</td>\n      <td>App\\Models\\Clients\\Client</td>\n      <td>57</td>\n      <td>9</td>\n      <td>510</td>\n      <td>NaT</td>\n      <td>NaN</td>\n      <td>NaT</td>\n    </tr>\n    <tr>\n      <th>40</th>\n      <td>App\\Models\\Companies\\Subscription</td>\n      <td>61</td>\n      <td>paid</td>\n      <td>2021-02-23 15:55:20</td>\n      <td>NaT</td>\n      <td>NaN</td>\n      <td>3900</td>\n      <td>3390</td>\n      <td>2021-02-23 15:55:20</td>\n      <td>2021-04-15 12:14:08</td>\n      <td>...</td>\n      <td>NaN</td>\n      <td>NaN</td>\n      <td>NaN</td>\n      <td>App\\Models\\Clients\\Client</td>\n      <td>55</td>\n      <td>9</td>\n      <td>510</td>\n      <td>NaT</td>\n      <td>NaN</td>\n      <td>NaT</td>\n    </tr>\n  </tbody>\n</table>\n<p>5 rows × 28 columns</p>\n</div>",
      "text/plain": "                         payable_type  payable_id  status             paid_at  \\\nid                                                                              \n44  App\\Models\\Companies\\Subscription          67    paid 2021-02-26 15:36:54   \n45  App\\Models\\Companies\\Subscription          63    paid 2021-02-26 16:11:52   \n39  App\\Models\\Companies\\Subscription          58    paid 2021-02-19 12:40:08   \n46  App\\Models\\Companies\\Subscription          68  failed                 NaT   \n40  App\\Models\\Companies\\Subscription          61    paid 2021-02-23 15:55:20   \n\n             failed_at      failure_reason  amount  total          created_at  \\\nid                                                                              \n44                 NaT                 NaN    9900   9139 2021-02-26 15:36:54   \n45                 NaT                 NaN    3900   3390 2021-02-26 16:11:52   \n39                 NaT                 NaN    9900   9139 2021-02-19 12:40:08   \n46 2021-02-26 20:45:48  Tarjeta rechazada.    3900   3390 2021-02-26 20:45:48   \n40                 NaT                 NaN    3900   3390 2021-02-23 15:55:20   \n\n            updated_at  ...  refund_reason_id  refund_failed_at  \\\nid                      ...                                       \n44 2021-04-15 12:14:08  ...               NaN               NaN   \n45 2021-04-15 12:14:08  ...               NaN               NaN   \n39 2021-04-15 12:14:08  ...               NaN               NaN   \n46 2021-04-15 12:14:09  ...               NaN               NaN   \n40 2021-04-15 12:14:08  ...               NaN               NaN   \n\n    refund_failed_reason                 payer_type  payer_id company_id  \\\nid                                                                         \n44                   NaN  App\\Models\\Clients\\Client        59          9   \n45                   NaN  App\\Models\\Clients\\Client        56          9   \n39                   NaN  App\\Models\\Clients\\Client        53          9   \n46                   NaN  App\\Models\\Clients\\Client        57          9   \n40                   NaN  App\\Models\\Clients\\Client        55          9   \n\n   payment_gateway_fee_amount attended_at  payments_failed  refund_pending_at  \nid                                                                             \n44                        761         NaT              NaN                NaT  \n45                        510         NaT              NaN                NaT  \n39                        761         NaT              NaN                NaT  \n46                        510         NaT              NaN                NaT  \n40                        510         NaT              NaN                NaT  \n\n[5 rows x 28 columns]"
     },
     "execution_count": 4,
     "metadata": {},
     "output_type": "execute_result"
    }
   ],
   "source": [
    "df.head()"
   ]
  },
  {
   "cell_type": "code",
   "execution_count": 5,
   "metadata": {},
   "outputs": [
    {
     "data": {
      "text/plain": "company_id  paid_at   \n9           2021-02-01      47400\n            2021-03-01     341800\n            2021-04-01     813100\n            2021-05-01     102100\n51          2021-03-01     175000\n            2021-04-01     385000\n            2021-05-01     210000\n54          2021-03-01      79700\n            2021-04-01    1780014\n            2021-05-01    1006800\nName: amount, dtype: int64"
     },
     "execution_count": 5,
     "metadata": {},
     "output_type": "execute_result"
    }
   ],
   "source": [
    "subscribed=df.groupby(['company_id',pd.Grouper(key='paid_at',freq='MS')])['amount'].sum()\r\n",
    "subscribed"
   ]
  },
  {
   "cell_type": "code",
   "execution_count": null,
   "metadata": {},
   "outputs": [],
   "source": []
  },
  {
   "cell_type": "code",
   "execution_count": 6,
   "metadata": {},
   "outputs": [
    {
     "data": {
      "text/html": "<div>\n<style scoped>\n    .dataframe tbody tr th:only-of-type {\n        vertical-align: middle;\n    }\n\n    .dataframe tbody tr th {\n        vertical-align: top;\n    }\n\n    .dataframe thead th {\n        text-align: right;\n    }\n</style>\n<table border=\"1\" class=\"dataframe\">\n  <thead>\n    <tr style=\"text-align: right;\">\n      <th></th>\n      <th>Date</th>\n      <th>MRR</th>\n    </tr>\n  </thead>\n  <tbody>\n    <tr>\n      <th>0</th>\n      <td>2021-02-01</td>\n      <td>47400</td>\n    </tr>\n    <tr>\n      <th>1</th>\n      <td>2021-03-01</td>\n      <td>596500</td>\n    </tr>\n    <tr>\n      <th>2</th>\n      <td>2021-04-01</td>\n      <td>2978114</td>\n    </tr>\n    <tr>\n      <th>3</th>\n      <td>2021-05-01</td>\n      <td>1318900</td>\n    </tr>\n  </tbody>\n</table>\n</div>",
      "text/plain": "        Date      MRR\n0 2021-02-01    47400\n1 2021-03-01   596500\n2 2021-04-01  2978114\n3 2021-05-01  1318900"
     },
     "execution_count": 6,
     "metadata": {},
     "output_type": "execute_result"
    }
   ],
   "source": [
    "#Monthly Recurrent Revenue\r\n",
    "\r\n",
    "MRR = subscribed.groupby('paid_at').sum().reset_index().rename(columns={'amount':'MRR','paid_at':'Date'})\r\n",
    "MRR"
   ]
  },
  {
   "cell_type": "code",
   "execution_count": 7,
   "metadata": {},
   "outputs": [
    {
     "data": {
      "text/html": "<div>\n<style scoped>\n    .dataframe tbody tr th:only-of-type {\n        vertical-align: middle;\n    }\n\n    .dataframe tbody tr th {\n        vertical-align: top;\n    }\n\n    .dataframe thead th {\n        text-align: right;\n    }\n</style>\n<table border=\"1\" class=\"dataframe\">\n  <thead>\n    <tr style=\"text-align: right;\">\n      <th></th>\n      <th>Date</th>\n      <th>MRR</th>\n      <th>ARR</th>\n    </tr>\n  </thead>\n  <tbody>\n    <tr>\n      <th>0</th>\n      <td>2021-02-01</td>\n      <td>47400</td>\n      <td>568800</td>\n    </tr>\n    <tr>\n      <th>1</th>\n      <td>2021-03-01</td>\n      <td>596500</td>\n      <td>7158000</td>\n    </tr>\n    <tr>\n      <th>2</th>\n      <td>2021-04-01</td>\n      <td>2978114</td>\n      <td>35737368</td>\n    </tr>\n    <tr>\n      <th>3</th>\n      <td>2021-05-01</td>\n      <td>1318900</td>\n      <td>15826800</td>\n    </tr>\n  </tbody>\n</table>\n</div>",
      "text/plain": "        Date      MRR       ARR\n0 2021-02-01    47400    568800\n1 2021-03-01   596500   7158000\n2 2021-04-01  2978114  35737368\n3 2021-05-01  1318900  15826800"
     },
     "execution_count": 7,
     "metadata": {},
     "output_type": "execute_result"
    }
   ],
   "source": [
    "# Annual Run Rate\r\n",
    "MRR['ARR'] = MRR['MRR']*12\r\n",
    "MRR"
   ]
  },
  {
   "cell_type": "code",
   "execution_count": 8,
   "metadata": {},
   "outputs": [
    {
     "data": {
      "text/html": "<div>\n<style scoped>\n    .dataframe tbody tr th:only-of-type {\n        vertical-align: middle;\n    }\n\n    .dataframe tbody tr th {\n        vertical-align: top;\n    }\n\n    .dataframe thead th {\n        text-align: right;\n    }\n</style>\n<table border=\"1\" class=\"dataframe\">\n  <thead>\n    <tr style=\"text-align: right;\">\n      <th></th>\n      <th>Date</th>\n      <th>ARPU</th>\n    </tr>\n  </thead>\n  <tbody>\n    <tr>\n      <th>0</th>\n      <td>2021-02-01</td>\n      <td>47400</td>\n    </tr>\n    <tr>\n      <th>1</th>\n      <td>2021-03-01</td>\n      <td>198833</td>\n    </tr>\n    <tr>\n      <th>2</th>\n      <td>2021-04-01</td>\n      <td>992704</td>\n    </tr>\n    <tr>\n      <th>3</th>\n      <td>2021-05-01</td>\n      <td>439633</td>\n    </tr>\n  </tbody>\n</table>\n</div>",
      "text/plain": "        Date    ARPU\n0 2021-02-01   47400\n1 2021-03-01  198833\n2 2021-04-01  992704\n3 2021-05-01  439633"
     },
     "execution_count": 8,
     "metadata": {},
     "output_type": "execute_result"
    }
   ],
   "source": [
    "# Average Revenue per User\r\n",
    "ARPU = subscribed.groupby('paid_at').mean().reset_index().rename(columns={'amount':'ARPU','paid_at':'Date'})\r\n",
    "ARPU['ARPU'] = ARPU['ARPU'].astype(int)\r\n",
    "ARPU"
   ]
  },
  {
   "cell_type": "code",
   "execution_count": 9,
   "metadata": {},
   "outputs": [],
   "source": [
    "#Churn Rate\r\n",
    "# Total # of Customers that Cancel / Total # of Customers (at given Month)"
   ]
  },
  {
   "cell_type": "code",
   "execution_count": 10,
   "metadata": {},
   "outputs": [
    {
     "data": {
      "text/html": "<div>\n<style scoped>\n    .dataframe tbody tr th:only-of-type {\n        vertical-align: middle;\n    }\n\n    .dataframe tbody tr th {\n        vertical-align: top;\n    }\n\n    .dataframe thead th {\n        text-align: right;\n    }\n</style>\n<table border=\"1\" class=\"dataframe\">\n  <thead>\n    <tr style=\"text-align: right;\">\n      <th></th>\n      <th>Date</th>\n      <th>Total_users</th>\n    </tr>\n  </thead>\n  <tbody>\n    <tr>\n      <th>0</th>\n      <td>2021-02-01</td>\n      <td>6</td>\n    </tr>\n    <tr>\n      <th>1</th>\n      <td>2021-03-01</td>\n      <td>30</td>\n    </tr>\n    <tr>\n      <th>2</th>\n      <td>2021-04-01</td>\n      <td>92</td>\n    </tr>\n    <tr>\n      <th>3</th>\n      <td>2021-05-01</td>\n      <td>47</td>\n    </tr>\n  </tbody>\n</table>\n</div>",
      "text/plain": "        Date  Total_users\n0 2021-02-01            6\n1 2021-03-01           30\n2 2021-04-01           92\n3 2021-05-01           47"
     },
     "execution_count": 10,
     "metadata": {},
     "output_type": "execute_result"
    }
   ],
   "source": [
    "tot_custM =  df.groupby(['company_id','paid_at'])['status'].count().reset_index()\r\n",
    "tot_custM = tot_custM.resample('MS',on='paid_at')['status'].count().reset_index().rename(columns={'status':'Total_users','paid_at':'Date'})\r\n",
    "tot_custM \r\n"
   ]
  },
  {
   "cell_type": "code",
   "execution_count": 11,
   "metadata": {},
   "outputs": [
    {
     "data": {
      "text/html": "<div>\n<style scoped>\n    .dataframe tbody tr th:only-of-type {\n        vertical-align: middle;\n    }\n\n    .dataframe tbody tr th {\n        vertical-align: top;\n    }\n\n    .dataframe thead th {\n        text-align: right;\n    }\n</style>\n<table border=\"1\" class=\"dataframe\">\n  <thead>\n    <tr style=\"text-align: right;\">\n      <th></th>\n      <th>Date</th>\n      <th>Canceled</th>\n    </tr>\n  </thead>\n  <tbody>\n    <tr>\n      <th>0</th>\n      <td>2021-02-01</td>\n      <td>0</td>\n    </tr>\n    <tr>\n      <th>1</th>\n      <td>2021-03-01</td>\n      <td>2</td>\n    </tr>\n    <tr>\n      <th>2</th>\n      <td>2021-04-01</td>\n      <td>4</td>\n    </tr>\n    <tr>\n      <th>3</th>\n      <td>2021-05-01</td>\n      <td>2</td>\n    </tr>\n  </tbody>\n</table>\n</div>",
      "text/plain": "        Date  Canceled\n0 2021-02-01         0\n1 2021-03-01         2\n2 2021-04-01         4\n3 2021-05-01         2"
     },
     "execution_count": 11,
     "metadata": {},
     "output_type": "execute_result"
    }
   ],
   "source": [
    "fail_custM = df[df['status']== 'failed']\r\n",
    "fail_custM =  fail_custM.groupby(['company_id','failed_at'])['status'].count().reset_index()\r\n",
    "fail_custM = fail_custM.resample('MS',on='failed_at')['status'].count().reset_index().rename(columns={'status':'Canceled','failed_at':'Date'})\r\n",
    "fail_custM['Canceled'] = np.floor(fail_custM['Canceled']/4)\r\n",
    "# fail_custM = fail_custM[fail_custM['Canceled']>=1]\r\n",
    "canceled = fail_custM\r\n",
    "canceled['Canceled']= fail_custM['Canceled'].astype(int)\r\n",
    "canceled"
   ]
  },
  {
   "cell_type": "code",
   "execution_count": 12,
   "metadata": {},
   "outputs": [
    {
     "data": {
      "text/html": "<div>\n<style scoped>\n    .dataframe tbody tr th:only-of-type {\n        vertical-align: middle;\n    }\n\n    .dataframe tbody tr th {\n        vertical-align: top;\n    }\n\n    .dataframe thead th {\n        text-align: right;\n    }\n</style>\n<table border=\"1\" class=\"dataframe\">\n  <thead>\n    <tr style=\"text-align: right;\">\n      <th></th>\n      <th>Date</th>\n      <th>Canceled</th>\n      <th>Total_users</th>\n      <th>Churn_rate</th>\n      <th>Months</th>\n    </tr>\n  </thead>\n  <tbody>\n    <tr>\n      <th>0</th>\n      <td>2021-02-01</td>\n      <td>0</td>\n      <td>6</td>\n      <td>0.000000</td>\n      <td>inf</td>\n    </tr>\n    <tr>\n      <th>1</th>\n      <td>2021-03-01</td>\n      <td>2</td>\n      <td>30</td>\n      <td>0.066667</td>\n      <td>15.0</td>\n    </tr>\n    <tr>\n      <th>2</th>\n      <td>2021-04-01</td>\n      <td>4</td>\n      <td>92</td>\n      <td>0.043478</td>\n      <td>23.0</td>\n    </tr>\n    <tr>\n      <th>3</th>\n      <td>2021-05-01</td>\n      <td>2</td>\n      <td>47</td>\n      <td>0.042553</td>\n      <td>23.5</td>\n    </tr>\n  </tbody>\n</table>\n</div>",
      "text/plain": "        Date  Canceled  Total_users  Churn_rate  Months\n0 2021-02-01         0            6    0.000000     inf\n1 2021-03-01         2           30    0.066667    15.0\n2 2021-04-01         4           92    0.043478    23.0\n3 2021-05-01         2           47    0.042553    23.5"
     },
     "execution_count": 12,
     "metadata": {},
     "output_type": "execute_result"
    }
   ],
   "source": [
    "churn = canceled.merge(tot_custM, how='inner', on='Date')\r\n",
    "churn['Churn_rate'] = churn.Canceled/churn.Total_users\r\n",
    "churn['Months'] = 1/churn.Churn_rate\r\n",
    "churn"
   ]
  },
  {
   "cell_type": "code",
   "execution_count": 13,
   "metadata": {},
   "outputs": [
    {
     "data": {
      "text/html": "<div>\n<style scoped>\n    .dataframe tbody tr th:only-of-type {\n        vertical-align: middle;\n    }\n\n    .dataframe tbody tr th {\n        vertical-align: top;\n    }\n\n    .dataframe thead th {\n        text-align: right;\n    }\n</style>\n<table border=\"1\" class=\"dataframe\">\n  <thead>\n    <tr style=\"text-align: right;\">\n      <th></th>\n      <th>Date</th>\n      <th>ARPU</th>\n      <th>Canceled</th>\n      <th>Total_users</th>\n      <th>Churn_rate</th>\n      <th>Months</th>\n      <th>CLV</th>\n    </tr>\n  </thead>\n  <tbody>\n    <tr>\n      <th>0</th>\n      <td>2021-02-01</td>\n      <td>47400</td>\n      <td>0</td>\n      <td>6</td>\n      <td>0.000000</td>\n      <td>inf</td>\n      <td>inf</td>\n    </tr>\n    <tr>\n      <th>1</th>\n      <td>2021-03-01</td>\n      <td>198833</td>\n      <td>2</td>\n      <td>30</td>\n      <td>0.066667</td>\n      <td>15.0</td>\n      <td>2982495.0</td>\n    </tr>\n    <tr>\n      <th>2</th>\n      <td>2021-04-01</td>\n      <td>992704</td>\n      <td>4</td>\n      <td>92</td>\n      <td>0.043478</td>\n      <td>23.0</td>\n      <td>22832192.0</td>\n    </tr>\n    <tr>\n      <th>3</th>\n      <td>2021-05-01</td>\n      <td>439633</td>\n      <td>2</td>\n      <td>47</td>\n      <td>0.042553</td>\n      <td>23.5</td>\n      <td>10331375.5</td>\n    </tr>\n  </tbody>\n</table>\n</div>",
      "text/plain": "        Date    ARPU  Canceled  Total_users  Churn_rate  Months         CLV\n0 2021-02-01   47400         0            6    0.000000     inf         inf\n1 2021-03-01  198833         2           30    0.066667    15.0   2982495.0\n2 2021-04-01  992704         4           92    0.043478    23.0  22832192.0\n3 2021-05-01  439633         2           47    0.042553    23.5  10331375.5"
     },
     "execution_count": 13,
     "metadata": {},
     "output_type": "execute_result"
    }
   ],
   "source": [
    "#CLV Customer Life time Value\r\n",
    "#ARPU*churn(months)\r\n",
    "CLV = ARPU.merge(churn,how='inner',on='Date')\r\n",
    "CLV['CLV'] = CLV['ARPU']*CLV['Months']\r\n",
    "CLV['CLV'] = CLV['CLV'].astype(int,errors='ignore')\r\n",
    "CLV"
   ]
  },
  {
   "cell_type": "code",
   "execution_count": 14,
   "metadata": {},
   "outputs": [],
   "source": [
    "#CAC (TAS)\r\n",
    "#Customer Aquisition Cost\r\n"
   ]
  },
  {
   "cell_type": "code",
   "execution_count": 15,
   "metadata": {},
   "outputs": [
    {
     "data": {
      "text/html": "<div>\n<style scoped>\n    .dataframe tbody tr th:only-of-type {\n        vertical-align: middle;\n    }\n\n    .dataframe tbody tr th {\n        vertical-align: top;\n    }\n\n    .dataframe thead th {\n        text-align: right;\n    }\n</style>\n<table border=\"1\" class=\"dataframe\">\n  <thead>\n    <tr style=\"text-align: right;\">\n      <th></th>\n      <th>Date</th>\n      <th>ARPU</th>\n      <th>Canceled</th>\n      <th>Total_users</th>\n      <th>Churn_rate</th>\n      <th>Months</th>\n      <th>CLV</th>\n      <th>MRR</th>\n      <th>ARR</th>\n    </tr>\n  </thead>\n  <tbody>\n    <tr>\n      <th>0</th>\n      <td>2021-02-01</td>\n      <td>47400</td>\n      <td>0</td>\n      <td>6</td>\n      <td>0.000000</td>\n      <td>inf</td>\n      <td>inf</td>\n      <td>47400</td>\n      <td>568800</td>\n    </tr>\n    <tr>\n      <th>1</th>\n      <td>2021-03-01</td>\n      <td>198833</td>\n      <td>2</td>\n      <td>30</td>\n      <td>0.066667</td>\n      <td>15.0</td>\n      <td>2982495.0</td>\n      <td>596500</td>\n      <td>7158000</td>\n    </tr>\n    <tr>\n      <th>2</th>\n      <td>2021-04-01</td>\n      <td>992704</td>\n      <td>4</td>\n      <td>92</td>\n      <td>0.043478</td>\n      <td>23.0</td>\n      <td>22832192.0</td>\n      <td>2978114</td>\n      <td>35737368</td>\n    </tr>\n    <tr>\n      <th>3</th>\n      <td>2021-05-01</td>\n      <td>439633</td>\n      <td>2</td>\n      <td>47</td>\n      <td>0.042553</td>\n      <td>23.5</td>\n      <td>10331375.5</td>\n      <td>1318900</td>\n      <td>15826800</td>\n    </tr>\n  </tbody>\n</table>\n</div>",
      "text/plain": "        Date    ARPU  Canceled  Total_users  Churn_rate  Months         CLV  \\\n0 2021-02-01   47400         0            6    0.000000     inf         inf   \n1 2021-03-01  198833         2           30    0.066667    15.0   2982495.0   \n2 2021-04-01  992704         4           92    0.043478    23.0  22832192.0   \n3 2021-05-01  439633         2           47    0.042553    23.5  10331375.5   \n\n       MRR       ARR  \n0    47400    568800  \n1   596500   7158000  \n2  2978114  35737368  \n3  1318900  15826800  "
     },
     "execution_count": 15,
     "metadata": {},
     "output_type": "execute_result"
    }
   ],
   "source": [
    "SAAS = CLV\r\n",
    "SAAS['MRR'] = MRR['MRR']\r\n",
    "SAAS['ARR'] = MRR['ARR']\r\n",
    "# SAAS['Churn_rate'] = SAAS['Churn_rate']*100\r\n",
    "\r\n",
    "SAAS"
   ]
  },
  {
   "cell_type": "code",
   "execution_count": 16,
   "metadata": {},
   "outputs": [],
   "source": [
    "import dash\r\n",
    "import dash_core_components as dcc\r\n",
    "import dash_html_components as html\r\n",
    "from dash.dependencies import Output, Input\r\n",
    "import dash_bootstrap_components as dbc\r\n",
    "from plotly.subplots import make_subplots\r\n",
    "import plotly.graph_objects as go\r\n",
    "\r\n",
    "import plotly.express as px"
   ]
  },
  {
   "cell_type": "code",
   "execution_count": 17,
   "metadata": {},
   "outputs": [],
   "source": [
    "app = dash.Dash(__name__, external_stylesheets=[dbc.themes.LUX])\r\n"
   ]
  },
  {
   "cell_type": "code",
   "execution_count": 18,
   "metadata": {},
   "outputs": [],
   "source": [
    "#  MRR (Monthly Recurring Revenue)\r\n",
    "# - ARR (Annual Run Rate)\r\n",
    "# - TAS (Tasa de Adquisición de Suscriptores)\r\n",
    "# - LTV (Life Time Value)\r\n",
    "# - Churn rate\r\n",
    "# - Estatus de suscripción\r\n",
    "# - Más lo que decidas incluir"
   ]
  },
  {
   "cell_type": "code",
   "execution_count": 19,
   "metadata": {},
   "outputs": [
    {
     "data": {
      "application/vnd.plotly.v1+json": {
       "config": {
        "plotlyServerURL": "https://plot.ly"
       },
       "data": [
        {
         "name": "MRR",
         "type": "bar",
         "x": [
          "2021-02-01T00:00:00",
          "2021-03-01T00:00:00",
          "2021-04-01T00:00:00",
          "2021-05-01T00:00:00"
         ],
         "xaxis": "x",
         "y": [
          47400,
          596500,
          2978114,
          1318900
         ],
         "yaxis": "y"
        },
        {
         "name": "ARR",
         "type": "bar",
         "x": [
          "2021-02-01T00:00:00",
          "2021-03-01T00:00:00",
          "2021-04-01T00:00:00",
          "2021-05-01T00:00:00"
         ],
         "xaxis": "x2",
         "y": [
          568800,
          7158000,
          35737368,
          15826800
         ],
         "yaxis": "y2"
        },
        {
         "name": "ARPU",
         "type": "scatter",
         "x": [
          "2021-02-01T00:00:00",
          "2021-03-01T00:00:00",
          "2021-04-01T00:00:00",
          "2021-05-01T00:00:00"
         ],
         "xaxis": "x3",
         "y": [
          47400,
          198833,
          992704,
          439633
         ],
         "yaxis": "y3"
        },
        {
         "line": {
          "dash": "dash"
         },
         "name": "CLTV",
         "type": "scatter",
         "x": [
          "2021-02-01T00:00:00",
          "2021-03-01T00:00:00",
          "2021-04-01T00:00:00",
          "2021-05-01T00:00:00"
         ],
         "xaxis": "x3",
         "y": [
          null,
          2982495,
          22832192,
          10331375.5
         ],
         "yaxis": "y4"
        },
        {
         "line": {
          "dash": "dash"
         },
         "name": "Churn_rate",
         "type": "scatter",
         "x": [
          "2021-02-01T00:00:00",
          "2021-03-01T00:00:00",
          "2021-04-01T00:00:00",
          "2021-05-01T00:00:00"
         ],
         "xaxis": "x4",
         "y": [
          0,
          0.06666666666666667,
          0.043478260869565216,
          0.0425531914893617
         ],
         "yaxis": "y5"
        },
        {
         "name": "Users",
         "type": "scatter",
         "x": [
          "2021-02-01T00:00:00",
          "2021-03-01T00:00:00",
          "2021-04-01T00:00:00",
          "2021-05-01T00:00:00"
         ],
         "xaxis": "x4",
         "y": [
          6,
          30,
          92,
          47
         ],
         "yaxis": "y6"
        }
       ],
       "layout": {
        "annotations": [
         {
          "font": {
           "size": 16
          },
          "showarrow": false,
          "text": "Monthly Recurring Revenue",
          "x": 0.185,
          "xanchor": "center",
          "xref": "paper",
          "y": 1,
          "yanchor": "bottom",
          "yref": "paper"
         },
         {
          "font": {
           "size": 16
          },
          "showarrow": false,
          "text": "Annual Run Rate",
          "x": 0.7550000000000001,
          "xanchor": "center",
          "xref": "paper",
          "y": 1,
          "yanchor": "bottom",
          "yref": "paper"
         },
         {
          "font": {
           "size": 16
          },
          "showarrow": false,
          "text": "Average Revenue per User / Life Time Value",
          "x": 0.185,
          "xanchor": "center",
          "xref": "paper",
          "y": 0.375,
          "yanchor": "bottom",
          "yref": "paper"
         },
         {
          "font": {
           "size": 16
          },
          "showarrow": false,
          "text": "ChurnRate / Customers",
          "x": 0.7550000000000001,
          "xanchor": "center",
          "xref": "paper",
          "y": 0.375,
          "yanchor": "bottom",
          "yref": "paper"
         }
        ],
        "height": 1100,
        "showlegend": false,
        "template": {
         "data": {
          "bar": [
           {
            "error_x": {
             "color": "#2a3f5f"
            },
            "error_y": {
             "color": "#2a3f5f"
            },
            "marker": {
             "line": {
              "color": "#E5ECF6",
              "width": 0.5
             }
            },
            "type": "bar"
           }
          ],
          "barpolar": [
           {
            "marker": {
             "line": {
              "color": "#E5ECF6",
              "width": 0.5
             }
            },
            "type": "barpolar"
           }
          ],
          "carpet": [
           {
            "aaxis": {
             "endlinecolor": "#2a3f5f",
             "gridcolor": "white",
             "linecolor": "white",
             "minorgridcolor": "white",
             "startlinecolor": "#2a3f5f"
            },
            "baxis": {
             "endlinecolor": "#2a3f5f",
             "gridcolor": "white",
             "linecolor": "white",
             "minorgridcolor": "white",
             "startlinecolor": "#2a3f5f"
            },
            "type": "carpet"
           }
          ],
          "choropleth": [
           {
            "colorbar": {
             "outlinewidth": 0,
             "ticks": ""
            },
            "type": "choropleth"
           }
          ],
          "contour": [
           {
            "colorbar": {
             "outlinewidth": 0,
             "ticks": ""
            },
            "colorscale": [
             [
              0,
              "#0d0887"
             ],
             [
              0.1111111111111111,
              "#46039f"
             ],
             [
              0.2222222222222222,
              "#7201a8"
             ],
             [
              0.3333333333333333,
              "#9c179e"
             ],
             [
              0.4444444444444444,
              "#bd3786"
             ],
             [
              0.5555555555555556,
              "#d8576b"
             ],
             [
              0.6666666666666666,
              "#ed7953"
             ],
             [
              0.7777777777777778,
              "#fb9f3a"
             ],
             [
              0.8888888888888888,
              "#fdca26"
             ],
             [
              1,
              "#f0f921"
             ]
            ],
            "type": "contour"
           }
          ],
          "contourcarpet": [
           {
            "colorbar": {
             "outlinewidth": 0,
             "ticks": ""
            },
            "type": "contourcarpet"
           }
          ],
          "heatmap": [
           {
            "colorbar": {
             "outlinewidth": 0,
             "ticks": ""
            },
            "colorscale": [
             [
              0,
              "#0d0887"
             ],
             [
              0.1111111111111111,
              "#46039f"
             ],
             [
              0.2222222222222222,
              "#7201a8"
             ],
             [
              0.3333333333333333,
              "#9c179e"
             ],
             [
              0.4444444444444444,
              "#bd3786"
             ],
             [
              0.5555555555555556,
              "#d8576b"
             ],
             [
              0.6666666666666666,
              "#ed7953"
             ],
             [
              0.7777777777777778,
              "#fb9f3a"
             ],
             [
              0.8888888888888888,
              "#fdca26"
             ],
             [
              1,
              "#f0f921"
             ]
            ],
            "type": "heatmap"
           }
          ],
          "heatmapgl": [
           {
            "colorbar": {
             "outlinewidth": 0,
             "ticks": ""
            },
            "colorscale": [
             [
              0,
              "#0d0887"
             ],
             [
              0.1111111111111111,
              "#46039f"
             ],
             [
              0.2222222222222222,
              "#7201a8"
             ],
             [
              0.3333333333333333,
              "#9c179e"
             ],
             [
              0.4444444444444444,
              "#bd3786"
             ],
             [
              0.5555555555555556,
              "#d8576b"
             ],
             [
              0.6666666666666666,
              "#ed7953"
             ],
             [
              0.7777777777777778,
              "#fb9f3a"
             ],
             [
              0.8888888888888888,
              "#fdca26"
             ],
             [
              1,
              "#f0f921"
             ]
            ],
            "type": "heatmapgl"
           }
          ],
          "histogram": [
           {
            "marker": {
             "colorbar": {
              "outlinewidth": 0,
              "ticks": ""
             }
            },
            "type": "histogram"
           }
          ],
          "histogram2d": [
           {
            "colorbar": {
             "outlinewidth": 0,
             "ticks": ""
            },
            "colorscale": [
             [
              0,
              "#0d0887"
             ],
             [
              0.1111111111111111,
              "#46039f"
             ],
             [
              0.2222222222222222,
              "#7201a8"
             ],
             [
              0.3333333333333333,
              "#9c179e"
             ],
             [
              0.4444444444444444,
              "#bd3786"
             ],
             [
              0.5555555555555556,
              "#d8576b"
             ],
             [
              0.6666666666666666,
              "#ed7953"
             ],
             [
              0.7777777777777778,
              "#fb9f3a"
             ],
             [
              0.8888888888888888,
              "#fdca26"
             ],
             [
              1,
              "#f0f921"
             ]
            ],
            "type": "histogram2d"
           }
          ],
          "histogram2dcontour": [
           {
            "colorbar": {
             "outlinewidth": 0,
             "ticks": ""
            },
            "colorscale": [
             [
              0,
              "#0d0887"
             ],
             [
              0.1111111111111111,
              "#46039f"
             ],
             [
              0.2222222222222222,
              "#7201a8"
             ],
             [
              0.3333333333333333,
              "#9c179e"
             ],
             [
              0.4444444444444444,
              "#bd3786"
             ],
             [
              0.5555555555555556,
              "#d8576b"
             ],
             [
              0.6666666666666666,
              "#ed7953"
             ],
             [
              0.7777777777777778,
              "#fb9f3a"
             ],
             [
              0.8888888888888888,
              "#fdca26"
             ],
             [
              1,
              "#f0f921"
             ]
            ],
            "type": "histogram2dcontour"
           }
          ],
          "mesh3d": [
           {
            "colorbar": {
             "outlinewidth": 0,
             "ticks": ""
            },
            "type": "mesh3d"
           }
          ],
          "parcoords": [
           {
            "line": {
             "colorbar": {
              "outlinewidth": 0,
              "ticks": ""
             }
            },
            "type": "parcoords"
           }
          ],
          "pie": [
           {
            "automargin": true,
            "type": "pie"
           }
          ],
          "scatter": [
           {
            "marker": {
             "colorbar": {
              "outlinewidth": 0,
              "ticks": ""
             }
            },
            "type": "scatter"
           }
          ],
          "scatter3d": [
           {
            "line": {
             "colorbar": {
              "outlinewidth": 0,
              "ticks": ""
             }
            },
            "marker": {
             "colorbar": {
              "outlinewidth": 0,
              "ticks": ""
             }
            },
            "type": "scatter3d"
           }
          ],
          "scattercarpet": [
           {
            "marker": {
             "colorbar": {
              "outlinewidth": 0,
              "ticks": ""
             }
            },
            "type": "scattercarpet"
           }
          ],
          "scattergeo": [
           {
            "marker": {
             "colorbar": {
              "outlinewidth": 0,
              "ticks": ""
             }
            },
            "type": "scattergeo"
           }
          ],
          "scattergl": [
           {
            "marker": {
             "colorbar": {
              "outlinewidth": 0,
              "ticks": ""
             }
            },
            "type": "scattergl"
           }
          ],
          "scattermapbox": [
           {
            "marker": {
             "colorbar": {
              "outlinewidth": 0,
              "ticks": ""
             }
            },
            "type": "scattermapbox"
           }
          ],
          "scatterpolar": [
           {
            "marker": {
             "colorbar": {
              "outlinewidth": 0,
              "ticks": ""
             }
            },
            "type": "scatterpolar"
           }
          ],
          "scatterpolargl": [
           {
            "marker": {
             "colorbar": {
              "outlinewidth": 0,
              "ticks": ""
             }
            },
            "type": "scatterpolargl"
           }
          ],
          "scatterternary": [
           {
            "marker": {
             "colorbar": {
              "outlinewidth": 0,
              "ticks": ""
             }
            },
            "type": "scatterternary"
           }
          ],
          "surface": [
           {
            "colorbar": {
             "outlinewidth": 0,
             "ticks": ""
            },
            "colorscale": [
             [
              0,
              "#0d0887"
             ],
             [
              0.1111111111111111,
              "#46039f"
             ],
             [
              0.2222222222222222,
              "#7201a8"
             ],
             [
              0.3333333333333333,
              "#9c179e"
             ],
             [
              0.4444444444444444,
              "#bd3786"
             ],
             [
              0.5555555555555556,
              "#d8576b"
             ],
             [
              0.6666666666666666,
              "#ed7953"
             ],
             [
              0.7777777777777778,
              "#fb9f3a"
             ],
             [
              0.8888888888888888,
              "#fdca26"
             ],
             [
              1,
              "#f0f921"
             ]
            ],
            "type": "surface"
           }
          ],
          "table": [
           {
            "cells": {
             "fill": {
              "color": "#EBF0F8"
             },
             "line": {
              "color": "white"
             }
            },
            "header": {
             "fill": {
              "color": "#C8D4E3"
             },
             "line": {
              "color": "white"
             }
            },
            "type": "table"
           }
          ]
         },
         "layout": {
          "annotationdefaults": {
           "arrowcolor": "#2a3f5f",
           "arrowhead": 0,
           "arrowwidth": 1
          },
          "autotypenumbers": "strict",
          "coloraxis": {
           "colorbar": {
            "outlinewidth": 0,
            "ticks": ""
           }
          },
          "colorscale": {
           "diverging": [
            [
             0,
             "#8e0152"
            ],
            [
             0.1,
             "#c51b7d"
            ],
            [
             0.2,
             "#de77ae"
            ],
            [
             0.3,
             "#f1b6da"
            ],
            [
             0.4,
             "#fde0ef"
            ],
            [
             0.5,
             "#f7f7f7"
            ],
            [
             0.6,
             "#e6f5d0"
            ],
            [
             0.7,
             "#b8e186"
            ],
            [
             0.8,
             "#7fbc41"
            ],
            [
             0.9,
             "#4d9221"
            ],
            [
             1,
             "#276419"
            ]
           ],
           "sequential": [
            [
             0,
             "#0d0887"
            ],
            [
             0.1111111111111111,
             "#46039f"
            ],
            [
             0.2222222222222222,
             "#7201a8"
            ],
            [
             0.3333333333333333,
             "#9c179e"
            ],
            [
             0.4444444444444444,
             "#bd3786"
            ],
            [
             0.5555555555555556,
             "#d8576b"
            ],
            [
             0.6666666666666666,
             "#ed7953"
            ],
            [
             0.7777777777777778,
             "#fb9f3a"
            ],
            [
             0.8888888888888888,
             "#fdca26"
            ],
            [
             1,
             "#f0f921"
            ]
           ],
           "sequentialminus": [
            [
             0,
             "#0d0887"
            ],
            [
             0.1111111111111111,
             "#46039f"
            ],
            [
             0.2222222222222222,
             "#7201a8"
            ],
            [
             0.3333333333333333,
             "#9c179e"
            ],
            [
             0.4444444444444444,
             "#bd3786"
            ],
            [
             0.5555555555555556,
             "#d8576b"
            ],
            [
             0.6666666666666666,
             "#ed7953"
            ],
            [
             0.7777777777777778,
             "#fb9f3a"
            ],
            [
             0.8888888888888888,
             "#fdca26"
            ],
            [
             1,
             "#f0f921"
            ]
           ]
          },
          "colorway": [
           "#636efa",
           "#EF553B",
           "#00cc96",
           "#ab63fa",
           "#FFA15A",
           "#19d3f3",
           "#FF6692",
           "#B6E880",
           "#FF97FF",
           "#FECB52"
          ],
          "font": {
           "color": "#2a3f5f"
          },
          "geo": {
           "bgcolor": "white",
           "lakecolor": "white",
           "landcolor": "#E5ECF6",
           "showlakes": true,
           "showland": true,
           "subunitcolor": "white"
          },
          "hoverlabel": {
           "align": "left"
          },
          "hovermode": "closest",
          "mapbox": {
           "style": "light"
          },
          "paper_bgcolor": "white",
          "plot_bgcolor": "#E5ECF6",
          "polar": {
           "angularaxis": {
            "gridcolor": "white",
            "linecolor": "white",
            "ticks": ""
           },
           "bgcolor": "#E5ECF6",
           "radialaxis": {
            "gridcolor": "white",
            "linecolor": "white",
            "ticks": ""
           }
          },
          "scene": {
           "xaxis": {
            "backgroundcolor": "#E5ECF6",
            "gridcolor": "white",
            "gridwidth": 2,
            "linecolor": "white",
            "showbackground": true,
            "ticks": "",
            "zerolinecolor": "white"
           },
           "yaxis": {
            "backgroundcolor": "#E5ECF6",
            "gridcolor": "white",
            "gridwidth": 2,
            "linecolor": "white",
            "showbackground": true,
            "ticks": "",
            "zerolinecolor": "white"
           },
           "zaxis": {
            "backgroundcolor": "#E5ECF6",
            "gridcolor": "white",
            "gridwidth": 2,
            "linecolor": "white",
            "showbackground": true,
            "ticks": "",
            "zerolinecolor": "white"
           }
          },
          "shapedefaults": {
           "line": {
            "color": "#2a3f5f"
           }
          },
          "ternary": {
           "aaxis": {
            "gridcolor": "white",
            "linecolor": "white",
            "ticks": ""
           },
           "baxis": {
            "gridcolor": "white",
            "linecolor": "white",
            "ticks": ""
           },
           "bgcolor": "#E5ECF6",
           "caxis": {
            "gridcolor": "white",
            "linecolor": "white",
            "ticks": ""
           }
          },
          "title": {
           "x": 0.05
          },
          "xaxis": {
           "automargin": true,
           "gridcolor": "white",
           "linecolor": "white",
           "ticks": "",
           "title": {
            "standoff": 15
           },
           "zerolinecolor": "white",
           "zerolinewidth": 2
          },
          "yaxis": {
           "automargin": true,
           "gridcolor": "white",
           "linecolor": "white",
           "ticks": "",
           "title": {
            "standoff": 15
           },
           "zerolinecolor": "white",
           "zerolinewidth": 2
          }
         }
        },
        "title": {
         "text": "Metrics"
        },
        "width": 1300,
        "xaxis": {
         "anchor": "y",
         "domain": [
          0,
          0.37
         ]
        },
        "xaxis2": {
         "anchor": "y2",
         "domain": [
          0.5700000000000001,
          0.9400000000000001
         ]
        },
        "xaxis3": {
         "anchor": "y3",
         "domain": [
          0,
          0.37
         ]
        },
        "xaxis4": {
         "anchor": "y5",
         "domain": [
          0.5700000000000001,
          0.9400000000000001
         ]
        },
        "yaxis": {
         "anchor": "x",
         "domain": [
          0.625,
          1
         ]
        },
        "yaxis2": {
         "anchor": "x2",
         "domain": [
          0.625,
          1
         ]
        },
        "yaxis3": {
         "anchor": "x3",
         "domain": [
          0,
          0.375
         ],
         "title": {
          "text": "ARPU"
         }
        },
        "yaxis4": {
         "anchor": "x3",
         "overlaying": "y3",
         "side": "right",
         "title": {
          "text": "CLTV"
         }
        },
        "yaxis5": {
         "anchor": "x4",
         "domain": [
          0,
          0.375
         ],
         "tickformat": ",.0%",
         "title": {
          "text": "Churn_Rate"
         }
        },
        "yaxis6": {
         "anchor": "x4",
         "overlaying": "y5",
         "side": "right",
         "title": {
          "text": "Users"
         }
        }
       }
      }
     },
     "metadata": {},
     "output_type": "display_data"
    }
   ],
   "source": [
    "fig1 = make_subplots(rows=2, cols=2, start_cell=\"top-left\",subplot_titles=(\"Monthly Recurring Revenue\", \"Annual Run Rate\", \"Average Revenue per User / Life Time Value\",\"ChurnRate / Customers\"),specs=[[{\"secondary_y\": False}, {\"secondary_y\": False}],\r\n",
    "                           [{\"secondary_y\": True}, {\"secondary_y\": True}]])      \r\n",
    "fig1.add_trace(\r\n",
    "    go.Bar(x=SAAS[\"Date\"], y=SAAS[\"MRR\"],name=\"MRR\"),\r\n",
    "    row=1, col=1\r\n",
    "    )\r\n",
    "    \r\n",
    "fig1.add_trace(\r\n",
    "    go.Bar(x=SAAS[\"Date\"], y=SAAS[\"ARR\"],name=\"ARR\"),\r\n",
    "    row=1, col=2\r\n",
    "    )\r\n",
    "fig1.add_trace(\r\n",
    "    go.Scatter(x=SAAS[\"Date\"], y=SAAS[\"ARPU\"],name=\"ARPU\"),\r\n",
    "    row=2, col=1\r\n",
    "    )\r\n",
    "fig1.add_trace(\r\n",
    "    go.Scatter(x=SAAS[\"Date\"], y=SAAS[\"CLV\"],name=\"CLTV\",line=dict(dash='dash')),\r\n",
    "    row=2, col=1,secondary_y=True\r\n",
    "    )\r\n",
    "# Set y-axes titles\r\n",
    "fig1.update_yaxes(row=2, col=1,\r\n",
    "        title_text=\"ARPU\", \r\n",
    "        secondary_y=False)\r\n",
    "fig1.update_yaxes(row=2, col=1,\r\n",
    "        title_text=\"CLTV\", \r\n",
    "        secondary_y=True)\r\n",
    "\r\n",
    "fig1.add_trace(\r\n",
    "    go.Scatter(x=SAAS[\"Date\"], y=SAAS[\"Churn_rate\"],name=\"Churn_rate\" ,line=dict(dash='dash')),\r\n",
    "    row=2, col=2)\r\n",
    "fig1.add_trace(\r\n",
    "    go.Scatter(x=SAAS[\"Date\"], y=SAAS[\"Total_users\"],name=\"Users\"),\r\n",
    "    row=2, col=2,secondary_y=True)\r\n",
    "fig1.update_yaxes(row=2, col=2,\r\n",
    "        title_text=\"Churn_Rate\", \r\n",
    "        secondary_y=False)\r\n",
    "fig1.update_yaxes(row=2, col=2,\r\n",
    "        title_text=\"Users\", \r\n",
    "        secondary_y=True)\r\n",
    "fig1.update_layout(yaxis5=dict(tickformat=\",.0%\"))\r\n",
    "\r\n",
    "fig1.update_layout(height=1100, width=1300, title_text=\"Metrics\",showlegend=False)"
   ]
  },
  {
   "cell_type": "code",
   "execution_count": 20,
   "metadata": {},
   "outputs": [],
   "source": [
    "app.layout = html.Div(\r\n",
    "    children=[\r\n",
    "        html.H1(children=\"SaaS Metrics\",\r\n",
    "        className=\"header-title\",),\r\n",
    "        html.P(\r\n",
    "            children=\"Saas startup Analytics\",\r\n",
    "            \r\n",
    "        ),\r\n",
    "        dcc.Graph(\r\n",
    "            figure=fig1\r\n",
    "        ),\r\n",
    "        # dcc.Graph(\r\n",
    "        #     figure=fig2\r\n",
    "        # ),\r\n",
    "    ]\r\n",
    ")"
   ]
  },
  {
   "cell_type": "code",
   "execution_count": 21,
   "metadata": {},
   "outputs": [
    {
     "name": "stdout",
     "output_type": "stream",
     "text": [
      "Dash is running on http://127.0.0.1:8050/\n",
      "\n"
     ]
    },
    {
     "name": "stderr",
     "output_type": "stream",
     "text": [
      "2021-05-19 00:05:52.633 INFO    __main__: Dash is running on http://127.0.0.1:8050/\n",
      "\n"
     ]
    },
    {
     "name": "stdout",
     "output_type": "stream",
     "text": [
      " * Serving Flask app '__main__' (lazy loading)\n",
      " * Environment: production\n",
      "   WARNING: This is a development server. Do not use it in a production deployment.\n",
      "   Use a production WSGI server instead.\n",
      " * Debug mode: on\n"
     ]
    }
   ],
   "source": [
    "if __name__ == '__main__':\r\n",
    "    app.run_server(debug=True, use_reloader=False)"
   ]
  },
  {
   "cell_type": "code",
   "execution_count": null,
   "metadata": {},
   "outputs": [],
   "source": []
  },
  {
   "cell_type": "code",
   "execution_count": null,
   "metadata": {},
   "outputs": [],
   "source": []
  }
 ],
 "metadata": {
  "interpreter": {
   "hash": "a675da32ec64498fde8ac17f6fc2d4c9eb90f2749a8ee1300c882510f6e7f413"
  },
  "kernelspec": {
   "display_name": "Python 3.8.10 64-bit",
   "name": "python3"
  },
  "language_info": {
   "codemirror_mode": {
    "name": "ipython",
    "version": 3
   },
   "file_extension": ".py",
   "mimetype": "text/x-python",
   "name": "python",
   "nbconvert_exporter": "python",
   "pygments_lexer": "ipython3",
   "version": "3.8.10"
  },
  "orig_nbformat": 2
 },
 "nbformat": 4,
 "nbformat_minor": 2
}