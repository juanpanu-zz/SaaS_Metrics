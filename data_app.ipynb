{
 "cells": [
  {
   "cell_type": "markdown",
   "metadata": {},
   "source": [
    "- MRR (Monthly Recurring Revenue)\r\n",
    "- ARR (Annual Run Rate)\r\n",
    "- TAS (Tasa de Adquisición de Suscriptores)\r\n",
    "- LTV (Life Time Value)\r\n",
    "- Churn rate\r\n",
    "- Estatus de suscripción\r\n",
    "- Más lo que decidas incluir"
   ]
  },
  {
   "cell_type": "code",
   "execution_count": 1,
   "metadata": {},
   "outputs": [],
   "source": [
    "import streamlit as st\r\n",
    "import numpy as np\r\n",
    "import pandas as pd"
   ]
  },
  {
   "cell_type": "code",
   "execution_count": 2,
   "metadata": {},
   "outputs": [],
   "source": [
    "df = pd.read_excel('payments.xlsx',sheet_name='Hoja 1 - payments (2)',index_col=0, header=1)\r\n",
    "df = df.reset_index().set_index('id')"
   ]
  },
  {
   "cell_type": "code",
   "execution_count": 3,
   "metadata": {},
   "outputs": [],
   "source": [
    "#Converting to Datetime\r\n",
    "df['paid_at'] = pd.to_datetime(df['paid_at'],infer_datetime_format=True)\r\n",
    "df['failed_at'] = pd.to_datetime(df['failed_at'],infer_datetime_format=True)\r\n",
    "df['created_at'] = pd.to_datetime(df['created_at'],infer_datetime_format=True)\r\n",
    "df['updated_at'] = pd.to_datetime(df['updated_at'],infer_datetime_format=True)\r\n",
    "df['deleted_at'] = pd.to_datetime(df['deleted_at'],infer_datetime_format=True)\r\n",
    "df['required_action_at'] = pd.to_datetime(df['required_action_at'],infer_datetime_format=True)\r\n",
    "df['refunded_at'] = pd.to_datetime(df['refunded_at'],infer_datetime_format=True)\r\n",
    "df['attended_at'] = pd.to_datetime(df['attended_at'],infer_datetime_format=True)\r\n",
    "df['refund_pending_at'] = pd.to_datetime(df['refund_pending_at'],infer_datetime_format=True)\r\n"
   ]
  },
  {
   "cell_type": "code",
   "execution_count": 4,
   "metadata": {},
   "outputs": [
    {
     "data": {
      "text/html": "<div>\n<style scoped>\n    .dataframe tbody tr th:only-of-type {\n        vertical-align: middle;\n    }\n\n    .dataframe tbody tr th {\n        vertical-align: top;\n    }\n\n    .dataframe thead th {\n        text-align: right;\n    }\n</style>\n<table border=\"1\" class=\"dataframe\">\n  <thead>\n    <tr style=\"text-align: right;\">\n      <th></th>\n      <th>payable_type</th>\n      <th>payable_id</th>\n      <th>status</th>\n      <th>paid_at</th>\n      <th>failed_at</th>\n      <th>failure_reason</th>\n      <th>amount</th>\n      <th>total</th>\n      <th>created_at</th>\n      <th>updated_at</th>\n      <th>...</th>\n      <th>refund_reason_id</th>\n      <th>refund_failed_at</th>\n      <th>refund_failed_reason</th>\n      <th>payer_type</th>\n      <th>payer_id</th>\n      <th>company_id</th>\n      <th>payment_gateway_fee_amount</th>\n      <th>attended_at</th>\n      <th>payments_failed</th>\n      <th>refund_pending_at</th>\n    </tr>\n    <tr>\n      <th>id</th>\n      <th></th>\n      <th></th>\n      <th></th>\n      <th></th>\n      <th></th>\n      <th></th>\n      <th></th>\n      <th></th>\n      <th></th>\n      <th></th>\n      <th></th>\n      <th></th>\n      <th></th>\n      <th></th>\n      <th></th>\n      <th></th>\n      <th></th>\n      <th></th>\n      <th></th>\n      <th></th>\n      <th></th>\n    </tr>\n  </thead>\n  <tbody>\n    <tr>\n      <th>44</th>\n      <td>App\\Models\\Companies\\Subscription</td>\n      <td>67</td>\n      <td>paid</td>\n      <td>2021-02-26 15:36:54</td>\n      <td>NaT</td>\n      <td>NaN</td>\n      <td>9900</td>\n      <td>9139</td>\n      <td>2021-02-26 15:36:54</td>\n      <td>2021-04-15 12:14:08</td>\n      <td>...</td>\n      <td>NaN</td>\n      <td>NaN</td>\n      <td>NaN</td>\n      <td>App\\Models\\Clients\\Client</td>\n      <td>59</td>\n      <td>9</td>\n      <td>761</td>\n      <td>NaT</td>\n      <td>NaN</td>\n      <td>NaT</td>\n    </tr>\n    <tr>\n      <th>45</th>\n      <td>App\\Models\\Companies\\Subscription</td>\n      <td>63</td>\n      <td>paid</td>\n      <td>2021-02-26 16:11:52</td>\n      <td>NaT</td>\n      <td>NaN</td>\n      <td>3900</td>\n      <td>3390</td>\n      <td>2021-02-26 16:11:52</td>\n      <td>2021-04-15 12:14:08</td>\n      <td>...</td>\n      <td>NaN</td>\n      <td>NaN</td>\n      <td>NaN</td>\n      <td>App\\Models\\Clients\\Client</td>\n      <td>56</td>\n      <td>9</td>\n      <td>510</td>\n      <td>NaT</td>\n      <td>NaN</td>\n      <td>NaT</td>\n    </tr>\n    <tr>\n      <th>39</th>\n      <td>App\\Models\\Companies\\Subscription</td>\n      <td>58</td>\n      <td>paid</td>\n      <td>2021-02-19 12:40:08</td>\n      <td>NaT</td>\n      <td>NaN</td>\n      <td>9900</td>\n      <td>9139</td>\n      <td>2021-02-19 12:40:08</td>\n      <td>2021-04-15 12:14:08</td>\n      <td>...</td>\n      <td>NaN</td>\n      <td>NaN</td>\n      <td>NaN</td>\n      <td>App\\Models\\Clients\\Client</td>\n      <td>53</td>\n      <td>9</td>\n      <td>761</td>\n      <td>NaT</td>\n      <td>NaN</td>\n      <td>NaT</td>\n    </tr>\n    <tr>\n      <th>46</th>\n      <td>App\\Models\\Companies\\Subscription</td>\n      <td>68</td>\n      <td>failed</td>\n      <td>NaT</td>\n      <td>2021-02-26 20:45:48</td>\n      <td>Tarjeta rechazada.</td>\n      <td>3900</td>\n      <td>3390</td>\n      <td>2021-02-26 20:45:48</td>\n      <td>2021-04-15 12:14:09</td>\n      <td>...</td>\n      <td>NaN</td>\n      <td>NaN</td>\n      <td>NaN</td>\n      <td>App\\Models\\Clients\\Client</td>\n      <td>57</td>\n      <td>9</td>\n      <td>510</td>\n      <td>NaT</td>\n      <td>NaN</td>\n      <td>NaT</td>\n    </tr>\n    <tr>\n      <th>40</th>\n      <td>App\\Models\\Companies\\Subscription</td>\n      <td>61</td>\n      <td>paid</td>\n      <td>2021-02-23 15:55:20</td>\n      <td>NaT</td>\n      <td>NaN</td>\n      <td>3900</td>\n      <td>3390</td>\n      <td>2021-02-23 15:55:20</td>\n      <td>2021-04-15 12:14:08</td>\n      <td>...</td>\n      <td>NaN</td>\n      <td>NaN</td>\n      <td>NaN</td>\n      <td>App\\Models\\Clients\\Client</td>\n      <td>55</td>\n      <td>9</td>\n      <td>510</td>\n      <td>NaT</td>\n      <td>NaN</td>\n      <td>NaT</td>\n    </tr>\n  </tbody>\n</table>\n<p>5 rows × 28 columns</p>\n</div>",
      "text/plain": "                         payable_type  payable_id  status             paid_at  \\\nid                                                                              \n44  App\\Models\\Companies\\Subscription          67    paid 2021-02-26 15:36:54   \n45  App\\Models\\Companies\\Subscription          63    paid 2021-02-26 16:11:52   \n39  App\\Models\\Companies\\Subscription          58    paid 2021-02-19 12:40:08   \n46  App\\Models\\Companies\\Subscription          68  failed                 NaT   \n40  App\\Models\\Companies\\Subscription          61    paid 2021-02-23 15:55:20   \n\n             failed_at      failure_reason  amount  total          created_at  \\\nid                                                                              \n44                 NaT                 NaN    9900   9139 2021-02-26 15:36:54   \n45                 NaT                 NaN    3900   3390 2021-02-26 16:11:52   \n39                 NaT                 NaN    9900   9139 2021-02-19 12:40:08   \n46 2021-02-26 20:45:48  Tarjeta rechazada.    3900   3390 2021-02-26 20:45:48   \n40                 NaT                 NaN    3900   3390 2021-02-23 15:55:20   \n\n            updated_at  ...  refund_reason_id  refund_failed_at  \\\nid                      ...                                       \n44 2021-04-15 12:14:08  ...               NaN               NaN   \n45 2021-04-15 12:14:08  ...               NaN               NaN   \n39 2021-04-15 12:14:08  ...               NaN               NaN   \n46 2021-04-15 12:14:09  ...               NaN               NaN   \n40 2021-04-15 12:14:08  ...               NaN               NaN   \n\n    refund_failed_reason                 payer_type  payer_id company_id  \\\nid                                                                         \n44                   NaN  App\\Models\\Clients\\Client        59          9   \n45                   NaN  App\\Models\\Clients\\Client        56          9   \n39                   NaN  App\\Models\\Clients\\Client        53          9   \n46                   NaN  App\\Models\\Clients\\Client        57          9   \n40                   NaN  App\\Models\\Clients\\Client        55          9   \n\n   payment_gateway_fee_amount attended_at  payments_failed  refund_pending_at  \nid                                                                             \n44                        761         NaT              NaN                NaT  \n45                        510         NaT              NaN                NaT  \n39                        761         NaT              NaN                NaT  \n46                        510         NaT              NaN                NaT  \n40                        510         NaT              NaN                NaT  \n\n[5 rows x 28 columns]"
     },
     "execution_count": 4,
     "metadata": {},
     "output_type": "execute_result"
    }
   ],
   "source": [
    "df.head()"
   ]
  },
  {
   "cell_type": "code",
   "execution_count": 5,
   "metadata": {},
   "outputs": [],
   "source": [
    "# subscribed = df[df['status']=='paid']\r\n",
    "# # subscribed = subscribed.resample('M',on='paid_at').sum()\r\n",
    "# subscribed = subscribed.groupby(['company_id','paid_at'])['amount'].sum().reset_index()\r\n",
    "# subscribed = subscribed.resample('M',on='paid_at')['amount'].mean().reset_index()\r\n",
    "# subscribed"
   ]
  },
  {
   "cell_type": "code",
   "execution_count": 6,
   "metadata": {},
   "outputs": [
    {
     "data": {
      "text/plain": "payer_id  paid_at   \n10        2021-04-30    90000\n53        2021-02-28     9900\n          2021-03-31     9900\n          2021-04-30     9900\n55        2021-02-28     3900\n                        ...  \n234       2021-05-31     9900\n235       2021-05-31     3900\n236       2021-05-31    39900\n241       2021-05-31    39900\n242       2021-05-31    35000\nName: amount, Length: 173, dtype: int64"
     },
     "execution_count": 6,
     "metadata": {},
     "output_type": "execute_result"
    }
   ],
   "source": [
    "subscribed=df.groupby(['payer_id',pd.Grouper(key='paid_at',freq='M')])['amount'].sum()\r\n",
    "subscribed"
   ]
  },
  {
   "cell_type": "code",
   "execution_count": 7,
   "metadata": {},
   "outputs": [
    {
     "data": {
      "text/html": "<div>\n<style scoped>\n    .dataframe tbody tr th:only-of-type {\n        vertical-align: middle;\n    }\n\n    .dataframe tbody tr th {\n        vertical-align: top;\n    }\n\n    .dataframe thead th {\n        text-align: right;\n    }\n</style>\n<table border=\"1\" class=\"dataframe\">\n  <thead>\n    <tr style=\"text-align: right;\">\n      <th></th>\n      <th>Date</th>\n      <th>MRR</th>\n    </tr>\n  </thead>\n  <tbody>\n    <tr>\n      <th>0</th>\n      <td>2021-02-28</td>\n      <td>47400</td>\n    </tr>\n    <tr>\n      <th>1</th>\n      <td>2021-03-31</td>\n      <td>596500</td>\n    </tr>\n    <tr>\n      <th>2</th>\n      <td>2021-04-30</td>\n      <td>2978114</td>\n    </tr>\n    <tr>\n      <th>3</th>\n      <td>2021-05-31</td>\n      <td>1318900</td>\n    </tr>\n  </tbody>\n</table>\n</div>",
      "text/plain": "        Date      MRR\n0 2021-02-28    47400\n1 2021-03-31   596500\n2 2021-04-30  2978114\n3 2021-05-31  1318900"
     },
     "execution_count": 7,
     "metadata": {},
     "output_type": "execute_result"
    }
   ],
   "source": [
    "#Monthly Recurrent Revenue\r\n",
    "\r\n",
    "MRR = subscribed.groupby('paid_at').sum().reset_index().rename(columns={'amount':'MRR','paid_at':'Date'})\r\n",
    "MRR"
   ]
  },
  {
   "cell_type": "code",
   "execution_count": 8,
   "metadata": {},
   "outputs": [
    {
     "data": {
      "text/html": "<div>\n<style scoped>\n    .dataframe tbody tr th:only-of-type {\n        vertical-align: middle;\n    }\n\n    .dataframe tbody tr th {\n        vertical-align: top;\n    }\n\n    .dataframe thead th {\n        text-align: right;\n    }\n</style>\n<table border=\"1\" class=\"dataframe\">\n  <thead>\n    <tr style=\"text-align: right;\">\n      <th></th>\n      <th>Date</th>\n      <th>ARR</th>\n    </tr>\n  </thead>\n  <tbody>\n    <tr>\n      <th>0</th>\n      <td>2021-02-28</td>\n      <td>568800</td>\n    </tr>\n    <tr>\n      <th>1</th>\n      <td>2021-03-31</td>\n      <td>7158000</td>\n    </tr>\n    <tr>\n      <th>2</th>\n      <td>2021-04-30</td>\n      <td>35737368</td>\n    </tr>\n    <tr>\n      <th>3</th>\n      <td>2021-05-31</td>\n      <td>15826800</td>\n    </tr>\n  </tbody>\n</table>\n</div>",
      "text/plain": "        Date       ARR\n0 2021-02-28    568800\n1 2021-03-31   7158000\n2 2021-04-30  35737368\n3 2021-05-31  15826800"
     },
     "execution_count": 8,
     "metadata": {},
     "output_type": "execute_result"
    }
   ],
   "source": [
    "# Annual Run Rate\r\n",
    "ARR = MRR\r\n",
    "ARR['MRR'] = MRR['MRR']*12\r\n",
    "ARR= ARR.rename(columns={'MRR':'ARR'})\r\n",
    "ARR"
   ]
  },
  {
   "cell_type": "code",
   "execution_count": 9,
   "metadata": {},
   "outputs": [
    {
     "data": {
      "text/html": "<div>\n<style scoped>\n    .dataframe tbody tr th:only-of-type {\n        vertical-align: middle;\n    }\n\n    .dataframe tbody tr th {\n        vertical-align: top;\n    }\n\n    .dataframe thead th {\n        text-align: right;\n    }\n</style>\n<table border=\"1\" class=\"dataframe\">\n  <thead>\n    <tr style=\"text-align: right;\">\n      <th></th>\n      <th>Date</th>\n      <th>ARPU</th>\n    </tr>\n  </thead>\n  <tbody>\n    <tr>\n      <th>0</th>\n      <td>2021-02-28</td>\n      <td>7900</td>\n    </tr>\n    <tr>\n      <th>1</th>\n      <td>2021-03-31</td>\n      <td>19883</td>\n    </tr>\n    <tr>\n      <th>2</th>\n      <td>2021-04-30</td>\n      <td>32726</td>\n    </tr>\n    <tr>\n      <th>3</th>\n      <td>2021-05-31</td>\n      <td>28671</td>\n    </tr>\n  </tbody>\n</table>\n</div>",
      "text/plain": "        Date   ARPU\n0 2021-02-28   7900\n1 2021-03-31  19883\n2 2021-04-30  32726\n3 2021-05-31  28671"
     },
     "execution_count": 9,
     "metadata": {},
     "output_type": "execute_result"
    }
   ],
   "source": [
    "# Average Revenue per User\r\n",
    "ARPU = subscribed.groupby('paid_at').mean().reset_index().rename(columns={'amount':'ARPU','paid_at':'Date'})\r\n",
    "ARPU['ARPU'] = ARPU['ARPU'].astype(int)\r\n",
    "ARPU"
   ]
  },
  {
   "cell_type": "code",
   "execution_count": 10,
   "metadata": {},
   "outputs": [],
   "source": [
    "#Churn Rate\r\n",
    "# Total # of Customers that Cancel / Total # of Customers (at given Month)"
   ]
  },
  {
   "cell_type": "code",
   "execution_count": 11,
   "metadata": {},
   "outputs": [
    {
     "data": {
      "text/html": "<div>\n<style scoped>\n    .dataframe tbody tr th:only-of-type {\n        vertical-align: middle;\n    }\n\n    .dataframe tbody tr th {\n        vertical-align: top;\n    }\n\n    .dataframe thead th {\n        text-align: right;\n    }\n</style>\n<table border=\"1\" class=\"dataframe\">\n  <thead>\n    <tr style=\"text-align: right;\">\n      <th></th>\n      <th>Date</th>\n      <th>Total_users</th>\n    </tr>\n  </thead>\n  <tbody>\n    <tr>\n      <th>0</th>\n      <td>2021-02-28</td>\n      <td>6</td>\n    </tr>\n    <tr>\n      <th>1</th>\n      <td>2021-03-31</td>\n      <td>30</td>\n    </tr>\n    <tr>\n      <th>2</th>\n      <td>2021-04-30</td>\n      <td>92</td>\n    </tr>\n    <tr>\n      <th>3</th>\n      <td>2021-05-31</td>\n      <td>47</td>\n    </tr>\n  </tbody>\n</table>\n</div>",
      "text/plain": "        Date  Total_users\n0 2021-02-28            6\n1 2021-03-31           30\n2 2021-04-30           92\n3 2021-05-31           47"
     },
     "execution_count": 11,
     "metadata": {},
     "output_type": "execute_result"
    }
   ],
   "source": [
    "tot_custM =  df.groupby(['payer_id','paid_at'])['status'].count().reset_index()\r\n",
    "tot_custM = tot_custM.resample('M',on='paid_at')['status'].count().reset_index().rename(columns={'status':'Total_users','paid_at':'Date'})\r\n",
    "tot_custM \r\n"
   ]
  },
  {
   "cell_type": "code",
   "execution_count": 12,
   "metadata": {},
   "outputs": [
    {
     "data": {
      "text/html": "<div>\n<style scoped>\n    .dataframe tbody tr th:only-of-type {\n        vertical-align: middle;\n    }\n\n    .dataframe tbody tr th {\n        vertical-align: top;\n    }\n\n    .dataframe thead th {\n        text-align: right;\n    }\n</style>\n<table border=\"1\" class=\"dataframe\">\n  <thead>\n    <tr style=\"text-align: right;\">\n      <th></th>\n      <th>Date</th>\n      <th>Canceled</th>\n    </tr>\n  </thead>\n  <tbody>\n    <tr>\n      <th>1</th>\n      <td>2021-03-31</td>\n      <td>2</td>\n    </tr>\n    <tr>\n      <th>2</th>\n      <td>2021-04-30</td>\n      <td>4</td>\n    </tr>\n    <tr>\n      <th>3</th>\n      <td>2021-05-31</td>\n      <td>2</td>\n    </tr>\n  </tbody>\n</table>\n</div>",
      "text/plain": "        Date  Canceled\n1 2021-03-31         2\n2 2021-04-30         4\n3 2021-05-31         2"
     },
     "execution_count": 12,
     "metadata": {},
     "output_type": "execute_result"
    }
   ],
   "source": [
    "fail_custM = df[df['status']== 'failed']\r\n",
    "fail_custM =  fail_custM.groupby(['payer_id','failed_at'])['status'].count().reset_index()\r\n",
    "fail_custM = fail_custM.resample('M',on='failed_at')['status'].count().reset_index().rename(columns={'status':'Canceled','failed_at':'Date'})\r\n",
    "fail_custM['Canceled'] = np.floor(fail_custM['Canceled']/4)\r\n",
    "fail_custM = fail_custM[fail_custM['Canceled']>=1]\r\n",
    "canceled = fail_custM\r\n",
    "canceled['Canceled']= fail_custM['Canceled'].astype(int)\r\n",
    "canceled"
   ]
  },
  {
   "cell_type": "code",
   "execution_count": 13,
   "metadata": {},
   "outputs": [
    {
     "data": {
      "text/html": "<div>\n<style scoped>\n    .dataframe tbody tr th:only-of-type {\n        vertical-align: middle;\n    }\n\n    .dataframe tbody tr th {\n        vertical-align: top;\n    }\n\n    .dataframe thead th {\n        text-align: right;\n    }\n</style>\n<table border=\"1\" class=\"dataframe\">\n  <thead>\n    <tr style=\"text-align: right;\">\n      <th></th>\n      <th>Date</th>\n      <th>Canceled</th>\n      <th>Total_users</th>\n      <th>Churn_rate</th>\n      <th>Months</th>\n    </tr>\n  </thead>\n  <tbody>\n    <tr>\n      <th>0</th>\n      <td>2021-03-31</td>\n      <td>2</td>\n      <td>30</td>\n      <td>0.066667</td>\n      <td>15.0</td>\n    </tr>\n    <tr>\n      <th>1</th>\n      <td>2021-04-30</td>\n      <td>4</td>\n      <td>92</td>\n      <td>0.043478</td>\n      <td>23.0</td>\n    </tr>\n    <tr>\n      <th>2</th>\n      <td>2021-05-31</td>\n      <td>2</td>\n      <td>47</td>\n      <td>0.042553</td>\n      <td>23.5</td>\n    </tr>\n  </tbody>\n</table>\n</div>",
      "text/plain": "        Date  Canceled  Total_users  Churn_rate  Months\n0 2021-03-31         2           30    0.066667    15.0\n1 2021-04-30         4           92    0.043478    23.0\n2 2021-05-31         2           47    0.042553    23.5"
     },
     "execution_count": 13,
     "metadata": {},
     "output_type": "execute_result"
    }
   ],
   "source": [
    "churn = canceled.merge(tot_custM, how='inner', on='Date')\r\n",
    "churn['Churn_rate'] = churn.Canceled/churn.Total_users\r\n",
    "churn['Months'] = 1/churn.Churn_rate\r\n",
    "churn"
   ]
  },
  {
   "cell_type": "code",
   "execution_count": 14,
   "metadata": {},
   "outputs": [
    {
     "data": {
      "text/html": "<div>\n<style scoped>\n    .dataframe tbody tr th:only-of-type {\n        vertical-align: middle;\n    }\n\n    .dataframe tbody tr th {\n        vertical-align: top;\n    }\n\n    .dataframe thead th {\n        text-align: right;\n    }\n</style>\n<table border=\"1\" class=\"dataframe\">\n  <thead>\n    <tr style=\"text-align: right;\">\n      <th></th>\n      <th>Date</th>\n      <th>ARPU</th>\n      <th>Canceled</th>\n      <th>Total_users</th>\n      <th>Churn_rate</th>\n      <th>Months</th>\n      <th>CLV</th>\n    </tr>\n  </thead>\n  <tbody>\n    <tr>\n      <th>0</th>\n      <td>2021-03-31</td>\n      <td>19883</td>\n      <td>2</td>\n      <td>30</td>\n      <td>0.066667</td>\n      <td>15.0</td>\n      <td>298245</td>\n    </tr>\n    <tr>\n      <th>1</th>\n      <td>2021-04-30</td>\n      <td>32726</td>\n      <td>4</td>\n      <td>92</td>\n      <td>0.043478</td>\n      <td>23.0</td>\n      <td>752698</td>\n    </tr>\n    <tr>\n      <th>2</th>\n      <td>2021-05-31</td>\n      <td>28671</td>\n      <td>2</td>\n      <td>47</td>\n      <td>0.042553</td>\n      <td>23.5</td>\n      <td>673768</td>\n    </tr>\n  </tbody>\n</table>\n</div>",
      "text/plain": "        Date   ARPU  Canceled  Total_users  Churn_rate  Months     CLV\n0 2021-03-31  19883         2           30    0.066667    15.0  298245\n1 2021-04-30  32726         4           92    0.043478    23.0  752698\n2 2021-05-31  28671         2           47    0.042553    23.5  673768"
     },
     "execution_count": 14,
     "metadata": {},
     "output_type": "execute_result"
    }
   ],
   "source": [
    "#CLV Customer Life time Value\r\n",
    "#ARPU*churn(months)\r\n",
    "CLV = ARPU.merge(churn,how='inner',on='Date')\r\n",
    "CLV['CLV'] = CLV['ARPU']*CLV['Months']\r\n",
    "CLV['CLV'] = CLV['CLV'].astype(int)\r\n",
    "CLV"
   ]
  },
  {
   "cell_type": "code",
   "execution_count": 15,
   "metadata": {},
   "outputs": [],
   "source": [
    "#CAS (TAS)\r\n",
    "#Customer Aquisition Cost\r\n"
   ]
  }
 ],
 "metadata": {
  "interpreter": {
   "hash": "a675da32ec64498fde8ac17f6fc2d4c9eb90f2749a8ee1300c882510f6e7f413"
  },
  "kernelspec": {
   "display_name": "Python 3.8.10 64-bit",
   "name": "python3"
  },
  "language_info": {
   "codemirror_mode": {
    "name": "ipython",
    "version": 3
   },
   "file_extension": ".py",
   "mimetype": "text/x-python",
   "name": "python",
   "nbconvert_exporter": "python",
   "pygments_lexer": "ipython3",
   "version": "3.8.10"
  },
  "orig_nbformat": 2
 },
 "nbformat": 4,
 "nbformat_minor": 2
}